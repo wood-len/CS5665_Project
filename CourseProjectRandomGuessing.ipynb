{
  "nbformat": 4,
  "nbformat_minor": 0,
  "metadata": {
    "colab": {
      "name": "CourseProjectRandomGuessing.ipynb",
      "provenance": []
    },
    "kernelspec": {
      "name": "python3",
      "display_name": "Python 3"
    }
  },
  "cells": [
    {
      "cell_type": "code",
      "metadata": {
        "id": "ztj9Rv4a7AzH"
      },
      "source": [
        "import random\n",
        "import pandas as pd\n",
        "\n",
        "test_data = pd.read_csv('test.csv')\n",
        "test_data.shape[0]\n",
        "\n",
        "data = []\n",
        "for i in range(test_data.shape[0]):\n",
        "  forecastID = i\n",
        "  confirmedCases = random.randint(0,100000)\n",
        "  fatalities = random.randint(0,100000)\n",
        "  li = (forecastID, confirmedCases, fatalities)\n",
        "  data.append(li)\n",
        "\n",
        "\n",
        "with open(\"submission.csv\", \"wt\") as fp:\n",
        "    writer = csv.writer(fp, delimiter=\",\")\n",
        "    writer.writerow([\"ForecastID\", \"ConfirmedCases\", \"Fatalities\"])  # write header\n",
        "    writer.writerows(data)"
      ],
      "execution_count": 34,
      "outputs": []
    },
    {
      "cell_type": "markdown",
      "metadata": {
        "id": "8B9yjJXdPhlj"
      },
      "source": [
        "Score in Kaggle: 6.92338"
      ]
    }
  ]
}